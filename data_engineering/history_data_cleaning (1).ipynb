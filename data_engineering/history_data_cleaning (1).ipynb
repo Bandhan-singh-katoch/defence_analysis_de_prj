{
 "cells": [
  {
   "cell_type": "code",
   "execution_count": 0,
   "metadata": {
    "application/vnd.databricks.v1+cell": {
     "cellMetadata": {
      "byteLimit": 2048000,
      "rowLimit": 10000
     },
     "inputWidgets": {},
     "nuid": "7ebfee2e-a941-489b-a7d0-8d1d623abaee",
     "showTitle": false,
     "tableResultSettingsMap": {},
     "title": ""
    }
   },
   "outputs": [],
   "source": [
    "from pyspark.sql.functions import *\n",
    "from pyspark.sql.types import StructType, StructField, StringType, IntegerType, FloatType\n",
    "from pandas import pandas as pd\n",
    "import requests"
   ]
  },
  {
   "cell_type": "code",
   "execution_count": 0,
   "metadata": {
    "application/vnd.databricks.v1+cell": {
     "cellMetadata": {
      "byteLimit": 2048000,
      "rowLimit": 10000
     },
     "inputWidgets": {},
     "nuid": "122d99e3-b45d-4186-b9ca-0f1e57c98074",
     "showTitle": false,
     "tableResultSettingsMap": {},
     "title": ""
    }
   },
   "outputs": [],
   "source": [
    "# read data from csv\n",
    "url = \"https://dataset-miltary.s3.us-east-1.amazonaws.com/source/2022-06-07-2025-06-30.csv\"\n",
    "pandas_df = pd.read_csv(url)"
   ]
  },
  {
   "cell_type": "code",
   "execution_count": 0,
   "metadata": {
    "application/vnd.databricks.v1+cell": {
     "cellMetadata": {
      "byteLimit": 2048000,
      "rowLimit": 10000
     },
     "inputWidgets": {},
     "nuid": "9bc69ee8-ad54-4917-b8ee-7eb909832df8",
     "showTitle": false,
     "tableResultSettingsMap": {},
     "title": ""
    }
   },
   "outputs": [
    {
     "output_type": "display_data",
     "data": {
      "text/html": [
       "<style scoped>\n",
       "  .table-result-container {\n",
       "    max-height: 300px;\n",
       "    overflow: auto;\n",
       "  }\n",
       "  table, th, td {\n",
       "    border: 1px solid black;\n",
       "    border-collapse: collapse;\n",
       "  }\n",
       "  th, td {\n",
       "    padding: 5px;\n",
       "  }\n",
       "  th {\n",
       "    text-align: left;\n",
       "  }\n",
       "</style><div class='table-result-container'><table class='table-result'><thead style='background-color: white'><tr><th>event_id_cnty</th><th>event_date</th><th>year</th><th>time_precision</th><th>disorder_type</th><th>event_type</th><th>sub_event_type</th><th>actor1</th><th>assoc_actor_1</th><th>inter1</th><th>actor2</th><th>assoc_actor_2</th><th>inter2</th><th>interaction</th><th>civilian_targeting</th><th>iso</th><th>region</th><th>country</th><th>admin1</th><th>admin2</th><th>admin3</th><th>location</th><th>latitude</th><th>longitude</th><th>geo_precision</th><th>source</th><th>source_scale</th><th>notes</th><th>fatalities</th><th>tags</th><th>timestamp</th></tr></thead><tbody><tr><td>IND186444</td><td>06-Jun-25</td><td>2025</td><td>1</td><td>Strategic developments</td><td>Strategic developments</td><td>Agreement</td><td>Government of India (2014-)</td><td>null</td><td>1</td><td>CPI (Maoist): Communist Party of India (Maoist)</td><td>null</td><td>2</td><td>12</td><td>null</td><td>356</td><td>South Asia</td><td>India</td><td>Maharashtra</td><td>Gadchiroli</td><td>Bhamragad</td><td>Kawande</td><td>19.2865</td><td>80.7129</td><td>1</td><td>Indo-Asian News Service</td><td>Regional</td><td>On 6 June 2025, 12 Naxal-Maoist cadres carrying bounties worth crores of rupees surrendered their arms in front of the Chief Minister in Kawande village outpost under Bhamragad tehsil (Gadchiroli, Maharashtra). This marked the first time that so many Naxal-Maoist cadres surrendered in this area.</td><td>0</td><td>null</td><td>1749578457</td></tr><tr><td>IND186086</td><td>06-Jun-25</td><td>2025</td><td>1</td><td>Political violence</td><td>Battles</td><td>Armed clash</td><td>Police Forces of India (2014-)</td><td>null</td><td>1</td><td>Unidentified Armed Group (India)</td><td>null</td><td>3</td><td>13</td><td>null</td><td>356</td><td>South Asia</td><td>India</td><td>Uttarakhand</td><td>Haridwar</td><td>Roorkee</td><td>Manglaur</td><td>29.7909</td><td>77.8784</td><td>2</td><td>Deccan Herald; Hindustan Times</td><td>National</td><td>On 6 June 2025, the police shot and injured two men during an encounter at the Uttarakhand-Uttar Pradesh border area near Manglaur town (Haridwar, Uttarakhand). The two men were accused of shooting and killing a BJYM leader in Manduwala village on 3 June (coded separately). Both were arrested and referred to the hospital.</td><td>0</td><td>null</td><td>1749598044</td></tr><tr><td>IND186139</td><td>06-Jun-25</td><td>2025</td><td>1</td><td>Strategic developments</td><td>Strategic developments</td><td>Other</td><td>Police Forces of India (2014-)</td><td>null</td><td>1</td><td>Civilians (India)</td><td>null</td><td>7</td><td>17</td><td>null</td><td>356</td><td>South Asia</td><td>India</td><td>Arunachal Pradesh</td><td>Papum Pare</td><td>Itanagar</td><td>Itanagar</td><td>27.0869</td><td>93.6098</td><td>1</td><td>Arunachal Times</td><td>Subnational</td><td>Other: On 6 June 2025, police 'externed' 219 non-local Inner Line Permits (ILP) violators from Itanagar city (Papum Pare, Arunachal Pradesh) for living in Arunachal Pradesh without valid permits. They were detained from several locations across the state including Papu Hills, Naharlagun, Nirjuli, and Banderdewa as a part of the initiative to uphold the Bengal Eastern Frontier Regulation (restricting movement of non-indigenous people in tribal areas).</td><td>0</td><td>null</td><td>1749598044</td></tr><tr><td>IND186172</td><td>06-Jun-25</td><td>2025</td><td>1</td><td>Demonstrations</td><td>Protests</td><td>Peaceful protest</td><td>Protesters (India)</td><td>BJP: Bharatiya Janata Party</td><td>6</td><td>null</td><td>null</td><td>0</td><td>60</td><td>null</td><td>356</td><td>South Asia</td><td>India</td><td>Karnataka</td><td>Dakshina Kannada</td><td>Mangaluru</td><td>Mangaluru</td><td>12.9172</td><td>74.856</td><td>1</td><td>The Hindu</td><td>National</td><td>On 6 June 2025, members of BJP staged a protest in Mangaluru city (Dakshina Kannada, Karnataka) against the INC-led state government over the death of 11 people during a stampede during the celebrations in Bengaluru over Indian Premiere League cricket finals.</td><td>0</td><td>crowd size=no report</td><td>1749598044</td></tr><tr><td>IND186173</td><td>06-Jun-25</td><td>2025</td><td>1</td><td>Demonstrations</td><td>Protests</td><td>Peaceful protest</td><td>Protesters (India)</td><td>BJP: Bharatiya Janata Party</td><td>6</td><td>null</td><td>null</td><td>0</td><td>60</td><td>null</td><td>356</td><td>South Asia</td><td>India</td><td>Karnataka</td><td>Mysuru</td><td>Mysore</td><td>Mysuru</td><td>12.2979</td><td>76.6392</td><td>1</td><td>Times of India</td><td>National</td><td>On 6 June 2025, members of BJP staged a protest near Ramaswamy Circle in Mysuru city (Karnataka) against the INC-led state government over the death of 11 people during a stampede during the celebrations in Bengaluru over Indian Premiere League cricket finals.</td><td>0</td><td>crowd size=no report</td><td>1749598044</td></tr></tbody></table></div>"
      ]
     },
     "metadata": {
      "application/vnd.databricks.v1+output": {
       "addedWidgets": {},
       "aggData": [],
       "aggError": "",
       "aggOverflow": false,
       "aggSchema": [],
       "aggSeriesLimitReached": false,
       "aggType": "",
       "arguments": {},
       "columnCustomDisplayInfos": {},
       "data": [
        [
         "IND186444",
         "06-Jun-25",
         2025,
         1,
         "Strategic developments",
         "Strategic developments",
         "Agreement",
         "Government of India (2014-)",
         null,
         1,
         "CPI (Maoist): Communist Party of India (Maoist)",
         null,
         2,
         12,
         null,
         356,
         "South Asia",
         "India",
         "Maharashtra",
         "Gadchiroli",
         "Bhamragad",
         "Kawande",
         19.2865,
         80.7129,
         1,
         "Indo-Asian News Service",
         "Regional",
         "On 6 June 2025, 12 Naxal-Maoist cadres carrying bounties worth crores of rupees surrendered their arms in front of the Chief Minister in Kawande village outpost under Bhamragad tehsil (Gadchiroli, Maharashtra). This marked the first time that so many Naxal-Maoist cadres surrendered in this area.",
         0,
         null,
         1749578457
        ],
        [
         "IND186086",
         "06-Jun-25",
         2025,
         1,
         "Political violence",
         "Battles",
         "Armed clash",
         "Police Forces of India (2014-)",
         null,
         1,
         "Unidentified Armed Group (India)",
         null,
         3,
         13,
         null,
         356,
         "South Asia",
         "India",
         "Uttarakhand",
         "Haridwar",
         "Roorkee",
         "Manglaur",
         29.7909,
         77.8784,
         2,
         "Deccan Herald; Hindustan Times",
         "National",
         "On 6 June 2025, the police shot and injured two men during an encounter at the Uttarakhand-Uttar Pradesh border area near Manglaur town (Haridwar, Uttarakhand). The two men were accused of shooting and killing a BJYM leader in Manduwala village on 3 June (coded separately). Both were arrested and referred to the hospital.",
         0,
         null,
         1749598044
        ],
        [
         "IND186139",
         "06-Jun-25",
         2025,
         1,
         "Strategic developments",
         "Strategic developments",
         "Other",
         "Police Forces of India (2014-)",
         null,
         1,
         "Civilians (India)",
         null,
         7,
         17,
         null,
         356,
         "South Asia",
         "India",
         "Arunachal Pradesh",
         "Papum Pare",
         "Itanagar",
         "Itanagar",
         27.0869,
         93.6098,
         1,
         "Arunachal Times",
         "Subnational",
         "Other: On 6 June 2025, police 'externed' 219 non-local Inner Line Permits (ILP) violators from Itanagar city (Papum Pare, Arunachal Pradesh) for living in Arunachal Pradesh without valid permits. They were detained from several locations across the state including Papu Hills, Naharlagun, Nirjuli, and Banderdewa as a part of the initiative to uphold the Bengal Eastern Frontier Regulation (restricting movement of non-indigenous people in tribal areas).",
         0,
         null,
         1749598044
        ],
        [
         "IND186172",
         "06-Jun-25",
         2025,
         1,
         "Demonstrations",
         "Protests",
         "Peaceful protest",
         "Protesters (India)",
         "BJP: Bharatiya Janata Party",
         6,
         null,
         null,
         0,
         60,
         null,
         356,
         "South Asia",
         "India",
         "Karnataka",
         "Dakshina Kannada",
         "Mangaluru",
         "Mangaluru",
         12.9172,
         74.856,
         1,
         "The Hindu",
         "National",
         "On 6 June 2025, members of BJP staged a protest in Mangaluru city (Dakshina Kannada, Karnataka) against the INC-led state government over the death of 11 people during a stampede during the celebrations in Bengaluru over Indian Premiere League cricket finals.",
         0,
         "crowd size=no report",
         1749598044
        ],
        [
         "IND186173",
         "06-Jun-25",
         2025,
         1,
         "Demonstrations",
         "Protests",
         "Peaceful protest",
         "Protesters (India)",
         "BJP: Bharatiya Janata Party",
         6,
         null,
         null,
         0,
         60,
         null,
         356,
         "South Asia",
         "India",
         "Karnataka",
         "Mysuru",
         "Mysore",
         "Mysuru",
         12.2979,
         76.6392,
         1,
         "Times of India",
         "National",
         "On 6 June 2025, members of BJP staged a protest near Ramaswamy Circle in Mysuru city (Karnataka) against the INC-led state government over the death of 11 people during a stampede during the celebrations in Bengaluru over Indian Premiere League cricket finals.",
         0,
         "crowd size=no report",
         1749598044
        ]
       ],
       "datasetInfos": [],
       "dbfsResultPath": null,
       "isJsonSchema": true,
       "metadata": {},
       "overflow": false,
       "plotOptions": {
        "customPlotOptions": {},
        "displayType": "table",
        "pivotAggregation": null,
        "pivotColumns": null,
        "xColumns": null,
        "yColumns": null
       },
       "removedWidgets": [],
       "schema": [
        {
         "metadata": "{}",
         "name": "event_id_cnty",
         "type": "\"string\""
        },
        {
         "metadata": "{}",
         "name": "event_date",
         "type": "\"string\""
        },
        {
         "metadata": "{}",
         "name": "year",
         "type": "\"long\""
        },
        {
         "metadata": "{}",
         "name": "time_precision",
         "type": "\"long\""
        },
        {
         "metadata": "{}",
         "name": "disorder_type",
         "type": "\"string\""
        },
        {
         "metadata": "{}",
         "name": "event_type",
         "type": "\"string\""
        },
        {
         "metadata": "{}",
         "name": "sub_event_type",
         "type": "\"string\""
        },
        {
         "metadata": "{}",
         "name": "actor1",
         "type": "\"string\""
        },
        {
         "metadata": "{}",
         "name": "assoc_actor_1",
         "type": "\"string\""
        },
        {
         "metadata": "{}",
         "name": "inter1",
         "type": "\"long\""
        },
        {
         "metadata": "{}",
         "name": "actor2",
         "type": "\"string\""
        },
        {
         "metadata": "{}",
         "name": "assoc_actor_2",
         "type": "\"string\""
        },
        {
         "metadata": "{}",
         "name": "inter2",
         "type": "\"long\""
        },
        {
         "metadata": "{}",
         "name": "interaction",
         "type": "\"long\""
        },
        {
         "metadata": "{}",
         "name": "civilian_targeting",
         "type": "\"string\""
        },
        {
         "metadata": "{}",
         "name": "iso",
         "type": "\"long\""
        },
        {
         "metadata": "{}",
         "name": "region",
         "type": "\"string\""
        },
        {
         "metadata": "{}",
         "name": "country",
         "type": "\"string\""
        },
        {
         "metadata": "{}",
         "name": "admin1",
         "type": "\"string\""
        },
        {
         "metadata": "{}",
         "name": "admin2",
         "type": "\"string\""
        },
        {
         "metadata": "{}",
         "name": "admin3",
         "type": "\"string\""
        },
        {
         "metadata": "{}",
         "name": "location",
         "type": "\"string\""
        },
        {
         "metadata": "{}",
         "name": "latitude",
         "type": "\"double\""
        },
        {
         "metadata": "{}",
         "name": "longitude",
         "type": "\"double\""
        },
        {
         "metadata": "{}",
         "name": "geo_precision",
         "type": "\"long\""
        },
        {
         "metadata": "{}",
         "name": "source",
         "type": "\"string\""
        },
        {
         "metadata": "{}",
         "name": "source_scale",
         "type": "\"string\""
        },
        {
         "metadata": "{}",
         "name": "notes",
         "type": "\"string\""
        },
        {
         "metadata": "{}",
         "name": "fatalities",
         "type": "\"long\""
        },
        {
         "metadata": "{}",
         "name": "tags",
         "type": "\"string\""
        },
        {
         "metadata": "{}",
         "name": "timestamp",
         "type": "\"long\""
        }
       ],
       "type": "table"
      }
     },
     "output_type": "display_data"
    }
   ],
   "source": [
    "df = spark.createDataFrame(pandas_df)\n",
    "df.limit(5).display()"
   ]
  },
  {
   "cell_type": "code",
   "execution_count": 0,
   "metadata": {
    "application/vnd.databricks.v1+cell": {
     "cellMetadata": {
      "byteLimit": 2048000,
      "rowLimit": 10000
     },
     "inputWidgets": {},
     "nuid": "5a9086f5-e5a0-4cc6-8172-b5d209939cbd",
     "showTitle": false,
     "tableResultSettingsMap": {},
     "title": ""
    }
   },
   "outputs": [
    {
     "output_type": "display_data",
     "data": {
      "text/html": [
       "<style scoped>\n",
       "  .table-result-container {\n",
       "    max-height: 300px;\n",
       "    overflow: auto;\n",
       "  }\n",
       "  table, th, td {\n",
       "    border: 1px solid black;\n",
       "    border-collapse: collapse;\n",
       "  }\n",
       "  th, td {\n",
       "    padding: 5px;\n",
       "  }\n",
       "  th {\n",
       "    text-align: left;\n",
       "  }\n",
       "</style><div class='table-result-container'><table class='table-result'><thead style='background-color: white'><tr><th>event_id_cnty</th><th>event_date</th><th>year</th><th>event_type</th><th>sub_event_type</th><th>actor1</th><th>actor2</th><th>civilian_targeting</th><th>country</th><th>admin1</th><th>admin2</th><th>admin3</th><th>location</th><th>latitude</th><th>longitude</th><th>source</th><th>source_scale</th><th>notes</th><th>fatalities</th><th>timestamp</th></tr></thead><tbody><tr><td>IND186444</td><td>06-Jun-25</td><td>2025</td><td>Strategic developments</td><td>Agreement</td><td>Government of India (2014-)</td><td>CPI (Maoist): Communist Party of India (Maoist)</td><td>null</td><td>India</td><td>Maharashtra</td><td>Gadchiroli</td><td>Bhamragad</td><td>Kawande</td><td>19.2865</td><td>80.7129</td><td>Indo-Asian News Service</td><td>Regional</td><td>On 6 June 2025, 12 Naxal-Maoist cadres carrying bounties worth crores of rupees surrendered their arms in front of the Chief Minister in Kawande village outpost under Bhamragad tehsil (Gadchiroli, Maharashtra). This marked the first time that so many Naxal-Maoist cadres surrendered in this area.</td><td>0</td><td>1749578457</td></tr><tr><td>IND186086</td><td>06-Jun-25</td><td>2025</td><td>Battles</td><td>Armed clash</td><td>Police Forces of India (2014-)</td><td>Unidentified Armed Group (India)</td><td>null</td><td>India</td><td>Uttarakhand</td><td>Haridwar</td><td>Roorkee</td><td>Manglaur</td><td>29.7909</td><td>77.8784</td><td>Deccan Herald; Hindustan Times</td><td>National</td><td>On 6 June 2025, the police shot and injured two men during an encounter at the Uttarakhand-Uttar Pradesh border area near Manglaur town (Haridwar, Uttarakhand). The two men were accused of shooting and killing a BJYM leader in Manduwala village on 3 June (coded separately). Both were arrested and referred to the hospital.</td><td>0</td><td>1749598044</td></tr><tr><td>IND186139</td><td>06-Jun-25</td><td>2025</td><td>Strategic developments</td><td>Other</td><td>Police Forces of India (2014-)</td><td>Civilians (India)</td><td>null</td><td>India</td><td>Arunachal Pradesh</td><td>Papum Pare</td><td>Itanagar</td><td>Itanagar</td><td>27.0869</td><td>93.6098</td><td>Arunachal Times</td><td>Subnational</td><td>Other: On 6 June 2025, police 'externed' 219 non-local Inner Line Permits (ILP) violators from Itanagar city (Papum Pare, Arunachal Pradesh) for living in Arunachal Pradesh without valid permits. They were detained from several locations across the state including Papu Hills, Naharlagun, Nirjuli, and Banderdewa as a part of the initiative to uphold the Bengal Eastern Frontier Regulation (restricting movement of non-indigenous people in tribal areas).</td><td>0</td><td>1749598044</td></tr><tr><td>IND186172</td><td>06-Jun-25</td><td>2025</td><td>Protests</td><td>Peaceful protest</td><td>Protesters (India)</td><td>null</td><td>null</td><td>India</td><td>Karnataka</td><td>Dakshina Kannada</td><td>Mangaluru</td><td>Mangaluru</td><td>12.9172</td><td>74.856</td><td>The Hindu</td><td>National</td><td>On 6 June 2025, members of BJP staged a protest in Mangaluru city (Dakshina Kannada, Karnataka) against the INC-led state government over the death of 11 people during a stampede during the celebrations in Bengaluru over Indian Premiere League cricket finals.</td><td>0</td><td>1749598044</td></tr><tr><td>IND186173</td><td>06-Jun-25</td><td>2025</td><td>Protests</td><td>Peaceful protest</td><td>Protesters (India)</td><td>null</td><td>null</td><td>India</td><td>Karnataka</td><td>Mysuru</td><td>Mysore</td><td>Mysuru</td><td>12.2979</td><td>76.6392</td><td>Times of India</td><td>National</td><td>On 6 June 2025, members of BJP staged a protest near Ramaswamy Circle in Mysuru city (Karnataka) against the INC-led state government over the death of 11 people during a stampede during the celebrations in Bengaluru over Indian Premiere League cricket finals.</td><td>0</td><td>1749598044</td></tr></tbody></table></div>"
      ]
     },
     "metadata": {
      "application/vnd.databricks.v1+output": {
       "addedWidgets": {},
       "aggData": [],
       "aggError": "",
       "aggOverflow": false,
       "aggSchema": [],
       "aggSeriesLimitReached": false,
       "aggType": "",
       "arguments": {},
       "columnCustomDisplayInfos": {},
       "data": [
        [
         "IND186444",
         "06-Jun-25",
         2025,
         "Strategic developments",
         "Agreement",
         "Government of India (2014-)",
         "CPI (Maoist): Communist Party of India (Maoist)",
         null,
         "India",
         "Maharashtra",
         "Gadchiroli",
         "Bhamragad",
         "Kawande",
         19.2865,
         80.7129,
         "Indo-Asian News Service",
         "Regional",
         "On 6 June 2025, 12 Naxal-Maoist cadres carrying bounties worth crores of rupees surrendered their arms in front of the Chief Minister in Kawande village outpost under Bhamragad tehsil (Gadchiroli, Maharashtra). This marked the first time that so many Naxal-Maoist cadres surrendered in this area.",
         0,
         1749578457
        ],
        [
         "IND186086",
         "06-Jun-25",
         2025,
         "Battles",
         "Armed clash",
         "Police Forces of India (2014-)",
         "Unidentified Armed Group (India)",
         null,
         "India",
         "Uttarakhand",
         "Haridwar",
         "Roorkee",
         "Manglaur",
         29.7909,
         77.8784,
         "Deccan Herald; Hindustan Times",
         "National",
         "On 6 June 2025, the police shot and injured two men during an encounter at the Uttarakhand-Uttar Pradesh border area near Manglaur town (Haridwar, Uttarakhand). The two men were accused of shooting and killing a BJYM leader in Manduwala village on 3 June (coded separately). Both were arrested and referred to the hospital.",
         0,
         1749598044
        ],
        [
         "IND186139",
         "06-Jun-25",
         2025,
         "Strategic developments",
         "Other",
         "Police Forces of India (2014-)",
         "Civilians (India)",
         null,
         "India",
         "Arunachal Pradesh",
         "Papum Pare",
         "Itanagar",
         "Itanagar",
         27.0869,
         93.6098,
         "Arunachal Times",
         "Subnational",
         "Other: On 6 June 2025, police 'externed' 219 non-local Inner Line Permits (ILP) violators from Itanagar city (Papum Pare, Arunachal Pradesh) for living in Arunachal Pradesh without valid permits. They were detained from several locations across the state including Papu Hills, Naharlagun, Nirjuli, and Banderdewa as a part of the initiative to uphold the Bengal Eastern Frontier Regulation (restricting movement of non-indigenous people in tribal areas).",
         0,
         1749598044
        ],
        [
         "IND186172",
         "06-Jun-25",
         2025,
         "Protests",
         "Peaceful protest",
         "Protesters (India)",
         null,
         null,
         "India",
         "Karnataka",
         "Dakshina Kannada",
         "Mangaluru",
         "Mangaluru",
         12.9172,
         74.856,
         "The Hindu",
         "National",
         "On 6 June 2025, members of BJP staged a protest in Mangaluru city (Dakshina Kannada, Karnataka) against the INC-led state government over the death of 11 people during a stampede during the celebrations in Bengaluru over Indian Premiere League cricket finals.",
         0,
         1749598044
        ],
        [
         "IND186173",
         "06-Jun-25",
         2025,
         "Protests",
         "Peaceful protest",
         "Protesters (India)",
         null,
         null,
         "India",
         "Karnataka",
         "Mysuru",
         "Mysore",
         "Mysuru",
         12.2979,
         76.6392,
         "Times of India",
         "National",
         "On 6 June 2025, members of BJP staged a protest near Ramaswamy Circle in Mysuru city (Karnataka) against the INC-led state government over the death of 11 people during a stampede during the celebrations in Bengaluru over Indian Premiere League cricket finals.",
         0,
         1749598044
        ]
       ],
       "datasetInfos": [],
       "dbfsResultPath": null,
       "isJsonSchema": true,
       "metadata": {},
       "overflow": false,
       "plotOptions": {
        "customPlotOptions": {},
        "displayType": "table",
        "pivotAggregation": null,
        "pivotColumns": null,
        "xColumns": null,
        "yColumns": null
       },
       "removedWidgets": [],
       "schema": [
        {
         "metadata": "{}",
         "name": "event_id_cnty",
         "type": "\"string\""
        },
        {
         "metadata": "{}",
         "name": "event_date",
         "type": "\"string\""
        },
        {
         "metadata": "{}",
         "name": "year",
         "type": "\"long\""
        },
        {
         "metadata": "{}",
         "name": "event_type",
         "type": "\"string\""
        },
        {
         "metadata": "{}",
         "name": "sub_event_type",
         "type": "\"string\""
        },
        {
         "metadata": "{}",
         "name": "actor1",
         "type": "\"string\""
        },
        {
         "metadata": "{}",
         "name": "actor2",
         "type": "\"string\""
        },
        {
         "metadata": "{}",
         "name": "civilian_targeting",
         "type": "\"string\""
        },
        {
         "metadata": "{}",
         "name": "country",
         "type": "\"string\""
        },
        {
         "metadata": "{}",
         "name": "admin1",
         "type": "\"string\""
        },
        {
         "metadata": "{}",
         "name": "admin2",
         "type": "\"string\""
        },
        {
         "metadata": "{}",
         "name": "admin3",
         "type": "\"string\""
        },
        {
         "metadata": "{}",
         "name": "location",
         "type": "\"string\""
        },
        {
         "metadata": "{}",
         "name": "latitude",
         "type": "\"double\""
        },
        {
         "metadata": "{}",
         "name": "longitude",
         "type": "\"double\""
        },
        {
         "metadata": "{}",
         "name": "source",
         "type": "\"string\""
        },
        {
         "metadata": "{}",
         "name": "source_scale",
         "type": "\"string\""
        },
        {
         "metadata": "{}",
         "name": "notes",
         "type": "\"string\""
        },
        {
         "metadata": "{}",
         "name": "fatalities",
         "type": "\"long\""
        },
        {
         "metadata": "{}",
         "name": "timestamp",
         "type": "\"long\""
        }
       ],
       "type": "table"
      }
     },
     "output_type": "display_data"
    }
   ],
   "source": [
    "df = df.select('event_id_cnty','event_date','year','event_type','sub_event_type','actor1','actor2','civilian_targeting','country','admin1','admin2','admin3','location','latitude','longitude','source','source_scale','notes','fatalities','timestamp')\n",
    "df.limit(5).display()"
   ]
  },
  {
   "cell_type": "code",
   "execution_count": 0,
   "metadata": {
    "application/vnd.databricks.v1+cell": {
     "cellMetadata": {
      "byteLimit": 2048000,
      "rowLimit": 10000
     },
     "inputWidgets": {},
     "nuid": "a0e0254e-c114-4cac-bb1f-b12c2b7e2794",
     "showTitle": false,
     "tableResultSettingsMap": {},
     "title": ""
    }
   },
   "outputs": [
    {
     "output_type": "display_data",
     "data": {
      "text/html": [
       "<style scoped>\n",
       "  .table-result-container {\n",
       "    max-height: 300px;\n",
       "    overflow: auto;\n",
       "  }\n",
       "  table, th, td {\n",
       "    border: 1px solid black;\n",
       "    border-collapse: collapse;\n",
       "  }\n",
       "  th, td {\n",
       "    padding: 5px;\n",
       "  }\n",
       "  th {\n",
       "    text-align: left;\n",
       "  }\n",
       "</style><div class='table-result-container'><table class='table-result'><thead style='background-color: white'><tr><th>event_type</th></tr></thead><tbody><tr><td>Protests</td></tr><tr><td>Violence against civilians</td></tr><tr><td>Battles</td></tr><tr><td>Explosions/Remote violence</td></tr><tr><td>Strategic developments</td></tr></tbody></table></div>"
      ]
     },
     "metadata": {
      "application/vnd.databricks.v1+output": {
       "addedWidgets": {},
       "aggData": [],
       "aggError": "",
       "aggOverflow": false,
       "aggSchema": [],
       "aggSeriesLimitReached": false,
       "aggType": "",
       "arguments": {},
       "columnCustomDisplayInfos": {},
       "data": [
        [
         "Protests"
        ],
        [
         "Violence against civilians"
        ],
        [
         "Battles"
        ],
        [
         "Explosions/Remote violence"
        ],
        [
         "Strategic developments"
        ]
       ],
       "datasetInfos": [],
       "dbfsResultPath": null,
       "isJsonSchema": true,
       "metadata": {},
       "overflow": false,
       "plotOptions": {
        "customPlotOptions": {},
        "displayType": "table",
        "pivotAggregation": null,
        "pivotColumns": null,
        "xColumns": null,
        "yColumns": null
       },
       "removedWidgets": [],
       "schema": [
        {
         "metadata": "{}",
         "name": "event_type",
         "type": "\"string\""
        }
       ],
       "type": "table"
      }
     },
     "output_type": "display_data"
    }
   ],
   "source": [
    "df.select('event_type').distinct().display()"
   ]
  },
  {
   "cell_type": "code",
   "execution_count": 0,
   "metadata": {
    "application/vnd.databricks.v1+cell": {
     "cellMetadata": {
      "byteLimit": 2048000,
      "rowLimit": 10000
     },
     "inputWidgets": {},
     "nuid": "b2d57440-898b-4350-be50-3743e2201d01",
     "showTitle": false,
     "tableResultSettingsMap": {},
     "title": ""
    }
   },
   "outputs": [],
   "source": [
    "df = df.filter(col('event_type') != 'Protests')"
   ]
  },
  {
   "cell_type": "code",
   "execution_count": 0,
   "metadata": {
    "application/vnd.databricks.v1+cell": {
     "cellMetadata": {
      "byteLimit": 2048000,
      "rowLimit": 10000
     },
     "inputWidgets": {},
     "nuid": "c64baef1-fa1a-4b59-a7f5-3a30dd045984",
     "showTitle": false,
     "tableResultSettingsMap": {},
     "title": ""
    }
   },
   "outputs": [
    {
     "output_type": "display_data",
     "data": {
      "text/html": [
       "<style scoped>\n",
       "  .table-result-container {\n",
       "    max-height: 300px;\n",
       "    overflow: auto;\n",
       "  }\n",
       "  table, th, td {\n",
       "    border: 1px solid black;\n",
       "    border-collapse: collapse;\n",
       "  }\n",
       "  th, td {\n",
       "    padding: 5px;\n",
       "  }\n",
       "  th {\n",
       "    text-align: left;\n",
       "  }\n",
       "</style><div class='table-result-container'><table class='table-result'><thead style='background-color: white'><tr><th>event_id_cnty</th><th>ctr</th></tr></thead><tbody></tbody></table></div>"
      ]
     },
     "metadata": {
      "application/vnd.databricks.v1+output": {
       "addedWidgets": {},
       "aggData": [],
       "aggError": "",
       "aggOverflow": false,
       "aggSchema": [],
       "aggSeriesLimitReached": false,
       "aggType": "",
       "arguments": {},
       "columnCustomDisplayInfos": {},
       "data": [],
       "datasetInfos": [],
       "dbfsResultPath": null,
       "isJsonSchema": true,
       "metadata": {},
       "overflow": false,
       "plotOptions": {
        "customPlotOptions": {},
        "displayType": "table",
        "pivotAggregation": null,
        "pivotColumns": null,
        "xColumns": null,
        "yColumns": null
       },
       "removedWidgets": [],
       "schema": [
        {
         "metadata": "{}",
         "name": "event_id_cnty",
         "type": "\"string\""
        },
        {
         "metadata": "{}",
         "name": "ctr",
         "type": "\"long\""
        }
       ],
       "type": "table"
      }
     },
     "output_type": "display_data"
    }
   ],
   "source": [
    "# checking for duplicates\n",
    "df.groupBy(col('event_id_cnty')).agg(\n",
    "    count('*').alias('ctr')\n",
    ").filter(col('ctr')>1).limit(5).display()"
   ]
  },
  {
   "cell_type": "code",
   "execution_count": 0,
   "metadata": {
    "application/vnd.databricks.v1+cell": {
     "cellMetadata": {
      "byteLimit": 2048000,
      "rowLimit": 10000
     },
     "inputWidgets": {},
     "nuid": "79634dc3-ae5a-488a-a5f8-bc6fdc96a726",
     "showTitle": false,
     "tableResultSettingsMap": {},
     "title": ""
    }
   },
   "outputs": [
    {
     "output_type": "execute_result",
     "data": {
      "text/plain": [
       "8676"
      ]
     },
     "execution_count": 7,
     "metadata": {},
     "output_type": "execute_result"
    }
   ],
   "source": [
    "# drop null values\n",
    "df_filtered = df.dropna(subset=[\"event_date\", \"latitude\", \"longitude\", \"admin1\", \"admin2\", \"event_type\"])\n",
    "df_filtered.count()"
   ]
  },
  {
   "cell_type": "code",
   "execution_count": 0,
   "metadata": {
    "application/vnd.databricks.v1+cell": {
     "cellMetadata": {
      "byteLimit": 2048000,
      "rowLimit": 10000
     },
     "inputWidgets": {},
     "nuid": "5f17e67e-7157-4a10-a88d-bad79572faac",
     "showTitle": false,
     "tableResultSettingsMap": {},
     "title": ""
    }
   },
   "outputs": [],
   "source": [
    "# trim whitespaces\n",
    "columns_to_trim = [c for c, t in df_filtered.dtypes if t == \"string\"]\n",
    "for col_name in columns_to_trim:\n",
    "    df_filtered = df_filtered.withColumn(col_name, trim(col(col_name)))"
   ]
  },
  {
   "cell_type": "code",
   "execution_count": 0,
   "metadata": {
    "application/vnd.databricks.v1+cell": {
     "cellMetadata": {
      "byteLimit": 2048000,
      "rowLimit": 10000
     },
     "inputWidgets": {},
     "nuid": "07609ddb-f0e5-4223-b04a-aa5ed44fa93d",
     "showTitle": false,
     "tableResultSettingsMap": {},
     "title": ""
    }
   },
   "outputs": [
    {
     "output_type": "display_data",
     "data": {
      "text/html": [
       "<style scoped>\n",
       "  .table-result-container {\n",
       "    max-height: 300px;\n",
       "    overflow: auto;\n",
       "  }\n",
       "  table, th, td {\n",
       "    border: 1px solid black;\n",
       "    border-collapse: collapse;\n",
       "  }\n",
       "  th, td {\n",
       "    padding: 5px;\n",
       "  }\n",
       "  th {\n",
       "    text-align: left;\n",
       "  }\n",
       "</style><div class='table-result-container'><table class='table-result'><thead style='background-color: white'><tr><th>event_id_cnty</th><th>event_date</th><th>year</th><th>event_type</th><th>sub_event_type</th><th>actor1</th><th>actor2</th><th>civilian_targeting</th><th>country</th><th>admin1</th><th>admin2</th><th>admin3</th><th>location</th><th>latitude</th><th>longitude</th><th>source</th><th>source_scale</th><th>notes</th><th>fatalities</th><th>timestamp</th><th>parsed_date</th><th>formatted_date</th></tr></thead><tbody><tr><td>IND186444</td><td>06-Jun-25</td><td>2025</td><td>Strategic developments</td><td>Agreement</td><td>Government of India (2014-)</td><td>CPI (Maoist): Communist Party of India (Maoist)</td><td>null</td><td>India</td><td>Maharashtra</td><td>Gadchiroli</td><td>Bhamragad</td><td>Kawande</td><td>19.2865</td><td>80.7129</td><td>Indo-Asian News Service</td><td>Regional</td><td>On 6 June 2025, 12 Naxal-Maoist cadres carrying bounties worth crores of rupees surrendered their arms in front of the Chief Minister in Kawande village outpost under Bhamragad tehsil (Gadchiroli, Maharashtra). This marked the first time that so many Naxal-Maoist cadres surrendered in this area.</td><td>0</td><td>1749578457</td><td>2025-06-06</td><td>2025-06-06</td></tr><tr><td>IND186086</td><td>06-Jun-25</td><td>2025</td><td>Battles</td><td>Armed clash</td><td>Police Forces of India (2014-)</td><td>Unidentified Armed Group (India)</td><td>null</td><td>India</td><td>Uttarakhand</td><td>Haridwar</td><td>Roorkee</td><td>Manglaur</td><td>29.7909</td><td>77.8784</td><td>Deccan Herald; Hindustan Times</td><td>National</td><td>On 6 June 2025, the police shot and injured two men during an encounter at the Uttarakhand-Uttar Pradesh border area near Manglaur town (Haridwar, Uttarakhand). The two men were accused of shooting and killing a BJYM leader in Manduwala village on 3 June (coded separately). Both were arrested and referred to the hospital.</td><td>0</td><td>1749598044</td><td>2025-06-06</td><td>2025-06-06</td></tr><tr><td>IND186139</td><td>06-Jun-25</td><td>2025</td><td>Strategic developments</td><td>Other</td><td>Police Forces of India (2014-)</td><td>Civilians (India)</td><td>null</td><td>India</td><td>Arunachal Pradesh</td><td>Papum Pare</td><td>Itanagar</td><td>Itanagar</td><td>27.0869</td><td>93.6098</td><td>Arunachal Times</td><td>Subnational</td><td>Other: On 6 June 2025, police 'externed' 219 non-local Inner Line Permits (ILP) violators from Itanagar city (Papum Pare, Arunachal Pradesh) for living in Arunachal Pradesh without valid permits. They were detained from several locations across the state including Papu Hills, Naharlagun, Nirjuli, and Banderdewa as a part of the initiative to uphold the Bengal Eastern Frontier Regulation (restricting movement of non-indigenous people in tribal areas).</td><td>0</td><td>1749598044</td><td>2025-06-06</td><td>2025-06-06</td></tr><tr><td>IND186438</td><td>05-Jun-25</td><td>2025</td><td>Battles</td><td>Armed clash</td><td>Police Forces of India (2014-)</td><td>CPI (Maoist): Communist Party of India (Maoist)</td><td>null</td><td>India</td><td>Chhattisgarh</td><td>Bijapur</td><td>Bhairamgarh</td><td>Ghot</td><td>19.2176</td><td>81.0606</td><td>South Asia Terrorism Portal</td><td>Other</td><td>On 5 June 2025, security forces (coded as police) clashed with Naxal-Maoist cadres in the Indravati National Park area in Bijapur District (coded to Ghot village, Bhairamgarh, Chhattisgarh). A 'central committee' member was killed. Police seized an automatic weapon, explosives, and Maoist literature from the site.</td><td>1</td><td>1749578457</td><td>2025-06-05</td><td>2025-06-05</td></tr><tr><td>IND186090</td><td>05-Jun-25</td><td>2025</td><td>Violence against civilians</td><td>Attack</td><td>NSCN-KK: National Socialist Council of Nagaland-Khango Konyak</td><td>Civilians (India)</td><td>Civilian targeting</td><td>India</td><td>Nagaland</td><td>Kohima</td><td>Kohima Sadar</td><td>Kohima</td><td>25.6576</td><td>94.1051</td><td>Nagaland Post</td><td>Subnational</td><td>Around 5 June 2025 (as reported), NSCN-KK cadres threatened, physically assaulted and forced a couple from the Chang and Sangtam communities to sign a bond under duress and made them agree to an arbitrary fine of Rs 3 lakh at their residence in Nagaland (coded to Kohima city, Nagaland) over extortion and wrong suspicions. There were no fatalities.</td><td>0</td><td>1749598044</td><td>2025-06-05</td><td>2025-06-05</td></tr></tbody></table></div>"
      ]
     },
     "metadata": {
      "application/vnd.databricks.v1+output": {
       "addedWidgets": {},
       "aggData": [],
       "aggError": "",
       "aggOverflow": false,
       "aggSchema": [],
       "aggSeriesLimitReached": false,
       "aggType": "",
       "arguments": {},
       "columnCustomDisplayInfos": {},
       "data": [
        [
         "IND186444",
         "06-Jun-25",
         2025,
         "Strategic developments",
         "Agreement",
         "Government of India (2014-)",
         "CPI (Maoist): Communist Party of India (Maoist)",
         null,
         "India",
         "Maharashtra",
         "Gadchiroli",
         "Bhamragad",
         "Kawande",
         19.2865,
         80.7129,
         "Indo-Asian News Service",
         "Regional",
         "On 6 June 2025, 12 Naxal-Maoist cadres carrying bounties worth crores of rupees surrendered their arms in front of the Chief Minister in Kawande village outpost under Bhamragad tehsil (Gadchiroli, Maharashtra). This marked the first time that so many Naxal-Maoist cadres surrendered in this area.",
         0,
         1749578457,
         "2025-06-06",
         "2025-06-06"
        ],
        [
         "IND186086",
         "06-Jun-25",
         2025,
         "Battles",
         "Armed clash",
         "Police Forces of India (2014-)",
         "Unidentified Armed Group (India)",
         null,
         "India",
         "Uttarakhand",
         "Haridwar",
         "Roorkee",
         "Manglaur",
         29.7909,
         77.8784,
         "Deccan Herald; Hindustan Times",
         "National",
         "On 6 June 2025, the police shot and injured two men during an encounter at the Uttarakhand-Uttar Pradesh border area near Manglaur town (Haridwar, Uttarakhand). The two men were accused of shooting and killing a BJYM leader in Manduwala village on 3 June (coded separately). Both were arrested and referred to the hospital.",
         0,
         1749598044,
         "2025-06-06",
         "2025-06-06"
        ],
        [
         "IND186139",
         "06-Jun-25",
         2025,
         "Strategic developments",
         "Other",
         "Police Forces of India (2014-)",
         "Civilians (India)",
         null,
         "India",
         "Arunachal Pradesh",
         "Papum Pare",
         "Itanagar",
         "Itanagar",
         27.0869,
         93.6098,
         "Arunachal Times",
         "Subnational",
         "Other: On 6 June 2025, police 'externed' 219 non-local Inner Line Permits (ILP) violators from Itanagar city (Papum Pare, Arunachal Pradesh) for living in Arunachal Pradesh without valid permits. They were detained from several locations across the state including Papu Hills, Naharlagun, Nirjuli, and Banderdewa as a part of the initiative to uphold the Bengal Eastern Frontier Regulation (restricting movement of non-indigenous people in tribal areas).",
         0,
         1749598044,
         "2025-06-06",
         "2025-06-06"
        ],
        [
         "IND186438",
         "05-Jun-25",
         2025,
         "Battles",
         "Armed clash",
         "Police Forces of India (2014-)",
         "CPI (Maoist): Communist Party of India (Maoist)",
         null,
         "India",
         "Chhattisgarh",
         "Bijapur",
         "Bhairamgarh",
         "Ghot",
         19.2176,
         81.0606,
         "South Asia Terrorism Portal",
         "Other",
         "On 5 June 2025, security forces (coded as police) clashed with Naxal-Maoist cadres in the Indravati National Park area in Bijapur District (coded to Ghot village, Bhairamgarh, Chhattisgarh). A 'central committee' member was killed. Police seized an automatic weapon, explosives, and Maoist literature from the site.",
         1,
         1749578457,
         "2025-06-05",
         "2025-06-05"
        ],
        [
         "IND186090",
         "05-Jun-25",
         2025,
         "Violence against civilians",
         "Attack",
         "NSCN-KK: National Socialist Council of Nagaland-Khango Konyak",
         "Civilians (India)",
         "Civilian targeting",
         "India",
         "Nagaland",
         "Kohima",
         "Kohima Sadar",
         "Kohima",
         25.6576,
         94.1051,
         "Nagaland Post",
         "Subnational",
         "Around 5 June 2025 (as reported), NSCN-KK cadres threatened, physically assaulted and forced a couple from the Chang and Sangtam communities to sign a bond under duress and made them agree to an arbitrary fine of Rs 3 lakh at their residence in Nagaland (coded to Kohima city, Nagaland) over extortion and wrong suspicions. There were no fatalities.",
         0,
         1749598044,
         "2025-06-05",
         "2025-06-05"
        ]
       ],
       "datasetInfos": [],
       "dbfsResultPath": null,
       "isJsonSchema": true,
       "metadata": {},
       "overflow": false,
       "plotOptions": {
        "customPlotOptions": {},
        "displayType": "table",
        "pivotAggregation": null,
        "pivotColumns": null,
        "xColumns": null,
        "yColumns": null
       },
       "removedWidgets": [],
       "schema": [
        {
         "metadata": "{}",
         "name": "event_id_cnty",
         "type": "\"string\""
        },
        {
         "metadata": "{}",
         "name": "event_date",
         "type": "\"string\""
        },
        {
         "metadata": "{}",
         "name": "year",
         "type": "\"long\""
        },
        {
         "metadata": "{}",
         "name": "event_type",
         "type": "\"string\""
        },
        {
         "metadata": "{}",
         "name": "sub_event_type",
         "type": "\"string\""
        },
        {
         "metadata": "{}",
         "name": "actor1",
         "type": "\"string\""
        },
        {
         "metadata": "{}",
         "name": "actor2",
         "type": "\"string\""
        },
        {
         "metadata": "{}",
         "name": "civilian_targeting",
         "type": "\"string\""
        },
        {
         "metadata": "{}",
         "name": "country",
         "type": "\"string\""
        },
        {
         "metadata": "{}",
         "name": "admin1",
         "type": "\"string\""
        },
        {
         "metadata": "{}",
         "name": "admin2",
         "type": "\"string\""
        },
        {
         "metadata": "{}",
         "name": "admin3",
         "type": "\"string\""
        },
        {
         "metadata": "{}",
         "name": "location",
         "type": "\"string\""
        },
        {
         "metadata": "{}",
         "name": "latitude",
         "type": "\"double\""
        },
        {
         "metadata": "{}",
         "name": "longitude",
         "type": "\"double\""
        },
        {
         "metadata": "{}",
         "name": "source",
         "type": "\"string\""
        },
        {
         "metadata": "{}",
         "name": "source_scale",
         "type": "\"string\""
        },
        {
         "metadata": "{}",
         "name": "notes",
         "type": "\"string\""
        },
        {
         "metadata": "{}",
         "name": "fatalities",
         "type": "\"long\""
        },
        {
         "metadata": "{}",
         "name": "timestamp",
         "type": "\"long\""
        },
        {
         "metadata": "{}",
         "name": "parsed_date",
         "type": "\"date\""
        },
        {
         "metadata": "{}",
         "name": "formatted_date",
         "type": "\"string\""
        }
       ],
       "type": "table"
      }
     },
     "output_type": "display_data"
    }
   ],
   "source": [
    "# format event_date\n",
    "df_filtered = df_filtered.withColumn('parsed_date', to_date(col('event_date'), 'dd-MMM-yy'))\\\n",
    "    .withColumn('formatted_date', date_format(col('parsed_date'), 'yyyy-MM-dd'))\n",
    "df_filtered.limit(5).display()\n"
   ]
  },
  {
   "cell_type": "code",
   "execution_count": 0,
   "metadata": {
    "application/vnd.databricks.v1+cell": {
     "cellMetadata": {
      "byteLimit": 2048000,
      "rowLimit": 10000
     },
     "inputWidgets": {},
     "nuid": "1b828770-cbff-4f6d-b1ff-5a356a1a4460",
     "showTitle": false,
     "tableResultSettingsMap": {},
     "title": ""
    }
   },
   "outputs": [
    {
     "output_type": "stream",
     "name": "stdout",
     "output_type": "stream",
     "text": [
      "8396\n"
     ]
    }
   ],
   "source": [
    "# extract lat, long and date for weather conditions\n",
    "unique_coords = df_filtered.select(\n",
    "    col(\"latitude\").cast(\"float\"),\n",
    "    col(\"longitude\").cast(\"float\"),\n",
    "    col(\"formatted_date\").alias(\"event_date\")\n",
    ").dropna().distinct()\n",
    "\n",
    "coords_pd = unique_coords.toPandas()\n",
    "# coords_pd.head()\n",
    "print(unique_coords.count())"
   ]
  },
  {
   "cell_type": "code",
   "execution_count": 0,
   "metadata": {
    "application/vnd.databricks.v1+cell": {
     "cellMetadata": {
      "byteLimit": 2048000,
      "rowLimit": 10000
     },
     "inputWidgets": {},
     "nuid": "a19c1137-00ec-4af3-bb16-f59ce8369397",
     "showTitle": false,
     "tableResultSettingsMap": {},
     "title": ""
    }
   },
   "outputs": [
    {
     "output_type": "stream",
     "name": "stdout",
     "output_type": "stream",
     "text": [
      "Collecting tqdm\n  Downloading tqdm-4.67.1-py3-none-any.whl.metadata (57 kB)\nDownloading tqdm-4.67.1-py3-none-any.whl (78 kB)\nInstalling collected packages: tqdm\nSuccessfully installed tqdm-4.67.1\n\u001B[43mNote: you may need to restart the kernel using %restart_python or dbutils.library.restartPython() to use updated packages.\u001B[0m\n"
     ]
    }
   ],
   "source": [
    "%pip install tqdm"
   ]
  },
  {
   "cell_type": "code",
   "execution_count": 0,
   "metadata": {
    "application/vnd.databricks.v1+cell": {
     "cellMetadata": {
      "byteLimit": 2048000,
      "rowLimit": 10000
     },
     "inputWidgets": {},
     "nuid": "005d7ace-56cf-4c4b-848e-d6819851f33c",
     "showTitle": false,
     "tableResultSettingsMap": {},
     "title": ""
    }
   },
   "outputs": [
    {
     "output_type": "stream",
     "name": "stdout",
     "output_type": "stream",
     "text": [
      "429 rate limit hit, retrying in 4.30s (attempt 3)"
     ]
    }
   ],
   "source": [
    "import pandas as pd\n",
    "from tqdm import tqdm\n",
    "import requests\n",
    "from concurrent.futures import ThreadPoolExecutor, as_completed\n",
    "\n",
    "# Your existing function\n",
    "def fetch_weather(lat, lon, date):\n",
    "    url = \"https://archive-api.open-meteo.com/v1/archive\"\n",
    "    params = {\n",
    "        \"latitude\": lat,\n",
    "        \"longitude\": lon,\n",
    "        \"start_date\": date,\n",
    "        \"end_date\": date,\n",
    "        \"daily\": \"weathercode,temperature_2m_max,temperature_2m_min\",\n",
    "        \"timezone\": \"auto\"\n",
    "    }\n",
    "\n",
    "    try:\n",
    "        res = requests.get(url, params=params, timeout=10)\n",
    "        if res.status_code == 200:\n",
    "            data = res.json().get(\"daily\", {})\n",
    "            return {\n",
    "                \"latitude\": lat,\n",
    "                \"longitude\": lon,\n",
    "                \"event_date\": date,\n",
    "                \"max_temp\": float(data.get(\"temperature_2m_max\", [None])[0]),\n",
    "                \"min_temp\": float(data.get(\"temperature_2m_min\", [None])[0]),\n",
    "                \"weather_code\": int(data.get(\"weathercode\", [None])[0])\n",
    "            }\n",
    "    except:\n",
    "        pass\n",
    "\n",
    "    return {\n",
    "        \"latitude\": lat,\n",
    "        \"longitude\": lon,\n",
    "        \"event_date\": date,\n",
    "        \"max_temp\": None,\n",
    "        \"min_temp\": None,\n",
    "        \"weather_code\": None\n",
    "    }\n",
    "\n",
    "# Prepare input list\n",
    "input_data = [\n",
    "    (row.latitude, row.longitude, row.event_date)\n",
    "    for _, row in coords_pd.iterrows()\n",
    "]\n",
    "\n",
    "# Run in parallel using threads\n",
    "weather_data_list = []\n",
    "with ThreadPoolExecutor(max_workers=10) as executor:  # You can adjust max_workers\n",
    "    futures = {executor.submit(fetch_weather, lat, lon, date): (lat, lon, date) for lat, lon, date in input_data}\n",
    "    \n",
    "    for future in tqdm(as_completed(futures), total=len(futures)):\n",
    "        weather_data_list.append(future.result())\n",
    "\n",
    "# Convert to DataFrame\n",
    "weather_df_pd = pd.DataFrame(weather_data_list)\n",
    "weather_df_pd.head()\n"
   ]
  },
  {
   "cell_type": "code",
   "execution_count": 0,
   "metadata": {
    "application/vnd.databricks.v1+cell": {
     "cellMetadata": {
      "byteLimit": 2048000,
      "rowLimit": 10000
     },
     "inputWidgets": {},
     "nuid": "e0e5d342-41a1-4486-9d93-e31a1c6281c1",
     "showTitle": false,
     "tableResultSettingsMap": {},
     "title": ""
    }
   },
   "outputs": [],
   "source": [
    "weather_spark_df = spark.createDataFrame(weather_df_pd)\n"
   ]
  },
  {
   "cell_type": "code",
   "execution_count": 0,
   "metadata": {
    "application/vnd.databricks.v1+cell": {
     "cellMetadata": {
      "byteLimit": 2048000,
      "rowLimit": 10000
     },
     "inputWidgets": {},
     "nuid": "fef05923-41e6-441f-9fdf-80ce966f89ad",
     "showTitle": false,
     "tableResultSettingsMap": {},
     "title": ""
    }
   },
   "outputs": [],
   "source": [
    "df_joined = df_filtered.join(\n",
    "    weather_spark_df,\n",
    "    on=[\n",
    "        df_filtered.latitude.cast(\"float\") == weather_spark_df.latitude,\n",
    "        df_filtered.longitude.cast(\"float\") == weather_spark_df.longitude,\n",
    "        df_filtered.formatted_date == weather_spark_df.event_date\n",
    "    ],\n",
    "    how=\"left\"\n",
    ").drop(weather_spark_df.latitude)\\\n",
    " .drop(weather_spark_df.longitude)\\\n",
    " .drop(weather_spark_df.event_date)"
   ]
  },
  {
   "cell_type": "code",
   "execution_count": 0,
   "metadata": {
    "application/vnd.databricks.v1+cell": {
     "cellMetadata": {
      "byteLimit": 2048000,
      "rowLimit": 10000
     },
     "inputWidgets": {},
     "nuid": "75a766ae-e57c-431d-a242-d79d1b8ead53",
     "showTitle": false,
     "tableResultSettingsMap": {},
     "title": ""
    }
   },
   "outputs": [],
   "source": [
    "# Add simplified weather condition\n",
    "def get_simplified_condition(weather_code):\n",
    "    if weather_code is None:\n",
    "        return \"Unknown\"\n",
    "    elif weather_code == 0:\n",
    "        return \"Clear\"\n",
    "    elif 1 <= weather_code <= 3:\n",
    "        return \"Cloudy\"\n",
    "    elif 45 <= weather_code <= 48:\n",
    "        return \"Fog/Haze\"\n",
    "    elif 51 <= weather_code <= 67:\n",
    "        return \"Rain\"\n",
    "    elif 71 <= weather_code <= 77:\n",
    "        return \"Snow\"\n",
    "    elif 80 <= weather_code <= 86:\n",
    "        return \"Rain\"\n",
    "    elif 95 <= weather_code <= 99:\n",
    "        return \"Thunderstorm\"\n",
    "    else:\n",
    "        return \"Extreme\"\n",
    "\n",
    "from pyspark.sql.functions import udf\n",
    "from pyspark.sql.types import StringType\n",
    "\n",
    "weather_condition_udf = udf(get_simplified_condition, StringType())\n",
    "\n",
    "final_df = df_joined.withColumn(\"weather_condition\", weather_condition_udf(col(\"weather_code\"))) \\\n",
    "    .withColumn(\"temperature\", ((col(\"max_temp\") + col(\"min_temp\")) / 2).cast(\"decimal(4,2)\"))\n"
   ]
  },
  {
   "cell_type": "code",
   "execution_count": 0,
   "metadata": {
    "application/vnd.databricks.v1+cell": {
     "cellMetadata": {
      "byteLimit": 2048000,
      "rowLimit": 10000
     },
     "inputWidgets": {},
     "nuid": "30c0c083-09c9-44db-983a-2523c7b28287",
     "showTitle": false,
     "tableResultSettingsMap": {},
     "title": ""
    }
   },
   "outputs": [
    {
     "output_type": "display_data",
     "data": {
      "text/html": [
       "<style scoped>\n",
       "  .table-result-container {\n",
       "    max-height: 300px;\n",
       "    overflow: auto;\n",
       "  }\n",
       "  table, th, td {\n",
       "    border: 1px solid black;\n",
       "    border-collapse: collapse;\n",
       "  }\n",
       "  th, td {\n",
       "    padding: 5px;\n",
       "  }\n",
       "  th {\n",
       "    text-align: left;\n",
       "  }\n",
       "</style><div class='table-result-container'><table class='table-result'><thead style='background-color: white'><tr><th>event_id_cnty</th><th>event_date</th><th>year</th><th>event_type</th><th>sub_event_type</th><th>actor1</th><th>actor2</th><th>civilian_targeting</th><th>country</th><th>admin1</th><th>admin2</th><th>admin3</th><th>location</th><th>latitude</th><th>longitude</th><th>source</th><th>source_scale</th><th>notes</th><th>fatalities</th><th>timestamp</th><th>parsed_date</th><th>formatted_date</th><th>max_temp</th><th>min_temp</th><th>weather_code</th><th>weather_condition</th><th>temperature</th></tr></thead><tbody><tr><td>IND186444</td><td>06-Jun-25</td><td>2025</td><td>Strategic developments</td><td>Agreement</td><td>Government of India (2014-)</td><td>CPI (Maoist): Communist Party of India (Maoist)</td><td>null</td><td>India</td><td>Maharashtra</td><td>Gadchiroli</td><td>Bhamragad</td><td>Kawande</td><td>19.2865</td><td>80.7129</td><td>Indo-Asian News Service</td><td>Regional</td><td>On 6 June 2025, 12 Naxal-Maoist cadres carrying bounties worth crores of rupees surrendered their arms in front of the Chief Minister in Kawande village outpost under Bhamragad tehsil (Gadchiroli, Maharashtra). This marked the first time that so many Naxal-Maoist cadres surrendered in this area.</td><td>0</td><td>1749578457</td><td>2025-06-06</td><td>2025-06-06</td><td>37.4</td><td>24.5</td><td>51.0</td><td>Rain</td><td>30.95</td></tr><tr><td>IND186086</td><td>06-Jun-25</td><td>2025</td><td>Battles</td><td>Armed clash</td><td>Police Forces of India (2014-)</td><td>Unidentified Armed Group (India)</td><td>null</td><td>India</td><td>Uttarakhand</td><td>Haridwar</td><td>Roorkee</td><td>Manglaur</td><td>29.7909</td><td>77.8784</td><td>Deccan Herald; Hindustan Times</td><td>National</td><td>On 6 June 2025, the police shot and injured two men during an encounter at the Uttarakhand-Uttar Pradesh border area near Manglaur town (Haridwar, Uttarakhand). The two men were accused of shooting and killing a BJYM leader in Manduwala village on 3 June (coded separately). Both were arrested and referred to the hospital.</td><td>0</td><td>1749598044</td><td>2025-06-06</td><td>2025-06-06</td><td>33.1</td><td>21.1</td><td>0.0</td><td>Clear</td><td>27.10</td></tr><tr><td>IND186139</td><td>06-Jun-25</td><td>2025</td><td>Strategic developments</td><td>Other</td><td>Police Forces of India (2014-)</td><td>Civilians (India)</td><td>null</td><td>India</td><td>Arunachal Pradesh</td><td>Papum Pare</td><td>Itanagar</td><td>Itanagar</td><td>27.0869</td><td>93.6098</td><td>Arunachal Times</td><td>Subnational</td><td>Other: On 6 June 2025, police 'externed' 219 non-local Inner Line Permits (ILP) violators from Itanagar city (Papum Pare, Arunachal Pradesh) for living in Arunachal Pradesh without valid permits. They were detained from several locations across the state including Papu Hills, Naharlagun, Nirjuli, and Banderdewa as a part of the initiative to uphold the Bengal Eastern Frontier Regulation (restricting movement of non-indigenous people in tribal areas).</td><td>0</td><td>1749598044</td><td>2025-06-06</td><td>2025-06-06</td><td>null</td><td>null</td><td>null</td><td>Unknown</td><td>null</td></tr><tr><td>IND186438</td><td>05-Jun-25</td><td>2025</td><td>Battles</td><td>Armed clash</td><td>Police Forces of India (2014-)</td><td>CPI (Maoist): Communist Party of India (Maoist)</td><td>null</td><td>India</td><td>Chhattisgarh</td><td>Bijapur</td><td>Bhairamgarh</td><td>Ghot</td><td>19.2176</td><td>81.0606</td><td>South Asia Terrorism Portal</td><td>Other</td><td>On 5 June 2025, security forces (coded as police) clashed with Naxal-Maoist cadres in the Indravati National Park area in Bijapur District (coded to Ghot village, Bhairamgarh, Chhattisgarh). A 'central committee' member was killed. Police seized an automatic weapon, explosives, and Maoist literature from the site.</td><td>1</td><td>1749578457</td><td>2025-06-05</td><td>2025-06-05</td><td>30.1</td><td>21.9</td><td>3.0</td><td>Cloudy</td><td>26.00</td></tr><tr><td>IND186090</td><td>05-Jun-25</td><td>2025</td><td>Violence against civilians</td><td>Attack</td><td>NSCN-KK: National Socialist Council of Nagaland-Khango Konyak</td><td>Civilians (India)</td><td>Civilian targeting</td><td>India</td><td>Nagaland</td><td>Kohima</td><td>Kohima Sadar</td><td>Kohima</td><td>25.6576</td><td>94.1051</td><td>Nagaland Post</td><td>Subnational</td><td>Around 5 June 2025 (as reported), NSCN-KK cadres threatened, physically assaulted and forced a couple from the Chang and Sangtam communities to sign a bond under duress and made them agree to an arbitrary fine of Rs 3 lakh at their residence in Nagaland (coded to Kohima city, Nagaland) over extortion and wrong suspicions. There were no fatalities.</td><td>0</td><td>1749598044</td><td>2025-06-05</td><td>2025-06-05</td><td>23.9</td><td>15.8</td><td>63.0</td><td>Rain</td><td>19.85</td></tr></tbody></table></div>"
      ]
     },
     "metadata": {
      "application/vnd.databricks.v1+output": {
       "addedWidgets": {},
       "aggData": [],
       "aggError": "",
       "aggOverflow": false,
       "aggSchema": [],
       "aggSeriesLimitReached": false,
       "aggType": "",
       "arguments": {},
       "columnCustomDisplayInfos": {},
       "data": [
        [
         "IND186444",
         "06-Jun-25",
         2025,
         "Strategic developments",
         "Agreement",
         "Government of India (2014-)",
         "CPI (Maoist): Communist Party of India (Maoist)",
         null,
         "India",
         "Maharashtra",
         "Gadchiroli",
         "Bhamragad",
         "Kawande",
         19.2865,
         80.7129,
         "Indo-Asian News Service",
         "Regional",
         "On 6 June 2025, 12 Naxal-Maoist cadres carrying bounties worth crores of rupees surrendered their arms in front of the Chief Minister in Kawande village outpost under Bhamragad tehsil (Gadchiroli, Maharashtra). This marked the first time that so many Naxal-Maoist cadres surrendered in this area.",
         0,
         1749578457,
         "2025-06-06",
         "2025-06-06",
         37.4,
         24.5,
         51.0,
         "Rain",
         "30.95"
        ],
        [
         "IND186086",
         "06-Jun-25",
         2025,
         "Battles",
         "Armed clash",
         "Police Forces of India (2014-)",
         "Unidentified Armed Group (India)",
         null,
         "India",
         "Uttarakhand",
         "Haridwar",
         "Roorkee",
         "Manglaur",
         29.7909,
         77.8784,
         "Deccan Herald; Hindustan Times",
         "National",
         "On 6 June 2025, the police shot and injured two men during an encounter at the Uttarakhand-Uttar Pradesh border area near Manglaur town (Haridwar, Uttarakhand). The two men were accused of shooting and killing a BJYM leader in Manduwala village on 3 June (coded separately). Both were arrested and referred to the hospital.",
         0,
         1749598044,
         "2025-06-06",
         "2025-06-06",
         33.1,
         21.1,
         0.0,
         "Clear",
         "27.10"
        ],
        [
         "IND186139",
         "06-Jun-25",
         2025,
         "Strategic developments",
         "Other",
         "Police Forces of India (2014-)",
         "Civilians (India)",
         null,
         "India",
         "Arunachal Pradesh",
         "Papum Pare",
         "Itanagar",
         "Itanagar",
         27.0869,
         93.6098,
         "Arunachal Times",
         "Subnational",
         "Other: On 6 June 2025, police 'externed' 219 non-local Inner Line Permits (ILP) violators from Itanagar city (Papum Pare, Arunachal Pradesh) for living in Arunachal Pradesh without valid permits. They were detained from several locations across the state including Papu Hills, Naharlagun, Nirjuli, and Banderdewa as a part of the initiative to uphold the Bengal Eastern Frontier Regulation (restricting movement of non-indigenous people in tribal areas).",
         0,
         1749598044,
         "2025-06-06",
         "2025-06-06",
         null,
         null,
         null,
         "Unknown",
         null
        ],
        [
         "IND186438",
         "05-Jun-25",
         2025,
         "Battles",
         "Armed clash",
         "Police Forces of India (2014-)",
         "CPI (Maoist): Communist Party of India (Maoist)",
         null,
         "India",
         "Chhattisgarh",
         "Bijapur",
         "Bhairamgarh",
         "Ghot",
         19.2176,
         81.0606,
         "South Asia Terrorism Portal",
         "Other",
         "On 5 June 2025, security forces (coded as police) clashed with Naxal-Maoist cadres in the Indravati National Park area in Bijapur District (coded to Ghot village, Bhairamgarh, Chhattisgarh). A 'central committee' member was killed. Police seized an automatic weapon, explosives, and Maoist literature from the site.",
         1,
         1749578457,
         "2025-06-05",
         "2025-06-05",
         30.1,
         21.9,
         3.0,
         "Cloudy",
         "26.00"
        ],
        [
         "IND186090",
         "05-Jun-25",
         2025,
         "Violence against civilians",
         "Attack",
         "NSCN-KK: National Socialist Council of Nagaland-Khango Konyak",
         "Civilians (India)",
         "Civilian targeting",
         "India",
         "Nagaland",
         "Kohima",
         "Kohima Sadar",
         "Kohima",
         25.6576,
         94.1051,
         "Nagaland Post",
         "Subnational",
         "Around 5 June 2025 (as reported), NSCN-KK cadres threatened, physically assaulted and forced a couple from the Chang and Sangtam communities to sign a bond under duress and made them agree to an arbitrary fine of Rs 3 lakh at their residence in Nagaland (coded to Kohima city, Nagaland) over extortion and wrong suspicions. There were no fatalities.",
         0,
         1749598044,
         "2025-06-05",
         "2025-06-05",
         23.9,
         15.8,
         63.0,
         "Rain",
         "19.85"
        ]
       ],
       "datasetInfos": [],
       "dbfsResultPath": null,
       "isJsonSchema": true,
       "metadata": {},
       "overflow": false,
       "plotOptions": {
        "customPlotOptions": {},
        "displayType": "table",
        "pivotAggregation": null,
        "pivotColumns": null,
        "xColumns": null,
        "yColumns": null
       },
       "removedWidgets": [],
       "schema": [
        {
         "metadata": "{}",
         "name": "event_id_cnty",
         "type": "\"string\""
        },
        {
         "metadata": "{}",
         "name": "event_date",
         "type": "\"string\""
        },
        {
         "metadata": "{}",
         "name": "year",
         "type": "\"long\""
        },
        {
         "metadata": "{}",
         "name": "event_type",
         "type": "\"string\""
        },
        {
         "metadata": "{}",
         "name": "sub_event_type",
         "type": "\"string\""
        },
        {
         "metadata": "{}",
         "name": "actor1",
         "type": "\"string\""
        },
        {
         "metadata": "{}",
         "name": "actor2",
         "type": "\"string\""
        },
        {
         "metadata": "{}",
         "name": "civilian_targeting",
         "type": "\"string\""
        },
        {
         "metadata": "{}",
         "name": "country",
         "type": "\"string\""
        },
        {
         "metadata": "{}",
         "name": "admin1",
         "type": "\"string\""
        },
        {
         "metadata": "{}",
         "name": "admin2",
         "type": "\"string\""
        },
        {
         "metadata": "{}",
         "name": "admin3",
         "type": "\"string\""
        },
        {
         "metadata": "{}",
         "name": "location",
         "type": "\"string\""
        },
        {
         "metadata": "{}",
         "name": "latitude",
         "type": "\"double\""
        },
        {
         "metadata": "{}",
         "name": "longitude",
         "type": "\"double\""
        },
        {
         "metadata": "{}",
         "name": "source",
         "type": "\"string\""
        },
        {
         "metadata": "{}",
         "name": "source_scale",
         "type": "\"string\""
        },
        {
         "metadata": "{}",
         "name": "notes",
         "type": "\"string\""
        },
        {
         "metadata": "{}",
         "name": "fatalities",
         "type": "\"long\""
        },
        {
         "metadata": "{}",
         "name": "timestamp",
         "type": "\"long\""
        },
        {
         "metadata": "{}",
         "name": "parsed_date",
         "type": "\"date\""
        },
        {
         "metadata": "{}",
         "name": "formatted_date",
         "type": "\"string\""
        },
        {
         "metadata": "{}",
         "name": "max_temp",
         "type": "\"double\""
        },
        {
         "metadata": "{}",
         "name": "min_temp",
         "type": "\"double\""
        },
        {
         "metadata": "{}",
         "name": "weather_code",
         "type": "\"double\""
        },
        {
         "metadata": "{}",
         "name": "weather_condition",
         "type": "\"string\""
        },
        {
         "metadata": "{}",
         "name": "temperature",
         "type": "\"decimal(4,2)\""
        }
       ],
       "type": "table"
      }
     },
     "output_type": "display_data"
    }
   ],
   "source": [
    "final_df.limit(5).display()"
   ]
  },
  {
   "cell_type": "code",
   "execution_count": 0,
   "metadata": {
    "application/vnd.databricks.v1+cell": {
     "cellMetadata": {
      "byteLimit": 2048000,
      "rowLimit": 10000
     },
     "inputWidgets": {},
     "nuid": "b4797015-34fe-42b9-84fb-90c26a7d19af",
     "showTitle": false,
     "tableResultSettingsMap": {},
     "title": ""
    }
   },
   "outputs": [
    {
     "output_type": "display_data",
     "data": {
      "text/html": [
       "<style scoped>\n",
       "  .table-result-container {\n",
       "    max-height: 300px;\n",
       "    overflow: auto;\n",
       "  }\n",
       "  table, th, td {\n",
       "    border: 1px solid black;\n",
       "    border-collapse: collapse;\n",
       "  }\n",
       "  th, td {\n",
       "    padding: 5px;\n",
       "  }\n",
       "  th {\n",
       "    text-align: left;\n",
       "  }\n",
       "</style><div class='table-result-container'><table class='table-result'><thead style='background-color: white'><tr><th>event_id_cnty</th><th>year</th><th>event_type</th><th>sub_event_type</th><th>actor1</th><th>actor2</th><th>civilian_targeting</th><th>country</th><th>admin1</th><th>admin2</th><th>admin3</th><th>location</th><th>latitude</th><th>longitude</th><th>source</th><th>source_scale</th><th>notes</th><th>fatalities</th><th>timestamp</th><th>event_date</th><th>weather_code</th><th>weather_condition</th><th>temperature</th></tr></thead><tbody><tr><td>IND186444</td><td>2025</td><td>Strategic developments</td><td>Agreement</td><td>Government of India (2014-)</td><td>CPI (Maoist): Communist Party of India (Maoist)</td><td>0</td><td>India</td><td>Maharashtra</td><td>Gadchiroli</td><td>Bhamragad</td><td>Kawande</td><td>19.2865</td><td>80.7129</td><td>Indo-Asian News Service</td><td>Regional</td><td>On 6 June 2025, 12 Naxal-Maoist cadres carrying bounties worth crores of rupees surrendered their arms in front of the Chief Minister in Kawande village outpost under Bhamragad tehsil (Gadchiroli, Maharashtra). This marked the first time that so many Naxal-Maoist cadres surrendered in this area.</td><td>0</td><td>1749578457</td><td>2025-06-06</td><td>51.0</td><td>Rain</td><td>30.95</td></tr><tr><td>IND186086</td><td>2025</td><td>Battles</td><td>Armed clash</td><td>Police Forces of India (2014-)</td><td>Unidentified Armed Group (India)</td><td>0</td><td>India</td><td>Uttarakhand</td><td>Haridwar</td><td>Roorkee</td><td>Manglaur</td><td>29.7909</td><td>77.8784</td><td>Deccan Herald; Hindustan Times</td><td>National</td><td>On 6 June 2025, the police shot and injured two men during an encounter at the Uttarakhand-Uttar Pradesh border area near Manglaur town (Haridwar, Uttarakhand). The two men were accused of shooting and killing a BJYM leader in Manduwala village on 3 June (coded separately). Both were arrested and referred to the hospital.</td><td>0</td><td>1749598044</td><td>2025-06-06</td><td>0.0</td><td>Clear</td><td>27.10</td></tr><tr><td>IND186139</td><td>2025</td><td>Strategic developments</td><td>Other</td><td>Police Forces of India (2014-)</td><td>Civilians (India)</td><td>0</td><td>India</td><td>Arunachal Pradesh</td><td>Papum Pare</td><td>Itanagar</td><td>Itanagar</td><td>27.0869</td><td>93.6098</td><td>Arunachal Times</td><td>Subnational</td><td>Other: On 6 June 2025, police 'externed' 219 non-local Inner Line Permits (ILP) violators from Itanagar city (Papum Pare, Arunachal Pradesh) for living in Arunachal Pradesh without valid permits. They were detained from several locations across the state including Papu Hills, Naharlagun, Nirjuli, and Banderdewa as a part of the initiative to uphold the Bengal Eastern Frontier Regulation (restricting movement of non-indigenous people in tribal areas).</td><td>0</td><td>1749598044</td><td>2025-06-06</td><td>null</td><td>Unknown</td><td>null</td></tr><tr><td>IND186438</td><td>2025</td><td>Battles</td><td>Armed clash</td><td>Police Forces of India (2014-)</td><td>CPI (Maoist): Communist Party of India (Maoist)</td><td>0</td><td>India</td><td>Chhattisgarh</td><td>Bijapur</td><td>Bhairamgarh</td><td>Ghot</td><td>19.2176</td><td>81.0606</td><td>South Asia Terrorism Portal</td><td>Other</td><td>On 5 June 2025, security forces (coded as police) clashed with Naxal-Maoist cadres in the Indravati National Park area in Bijapur District (coded to Ghot village, Bhairamgarh, Chhattisgarh). A 'central committee' member was killed. Police seized an automatic weapon, explosives, and Maoist literature from the site.</td><td>1</td><td>1749578457</td><td>2025-06-05</td><td>3.0</td><td>Cloudy</td><td>26.00</td></tr><tr><td>IND186090</td><td>2025</td><td>Violence against civilians</td><td>Attack</td><td>NSCN-KK: National Socialist Council of Nagaland-Khango Konyak</td><td>Civilians (India)</td><td>1</td><td>India</td><td>Nagaland</td><td>Kohima</td><td>Kohima Sadar</td><td>Kohima</td><td>25.6576</td><td>94.1051</td><td>Nagaland Post</td><td>Subnational</td><td>Around 5 June 2025 (as reported), NSCN-KK cadres threatened, physically assaulted and forced a couple from the Chang and Sangtam communities to sign a bond under duress and made them agree to an arbitrary fine of Rs 3 lakh at their residence in Nagaland (coded to Kohima city, Nagaland) over extortion and wrong suspicions. There were no fatalities.</td><td>0</td><td>1749598044</td><td>2025-06-05</td><td>63.0</td><td>Rain</td><td>19.85</td></tr></tbody></table></div>"
      ]
     },
     "metadata": {
      "application/vnd.databricks.v1+output": {
       "addedWidgets": {},
       "aggData": [],
       "aggError": "",
       "aggOverflow": false,
       "aggSchema": [],
       "aggSeriesLimitReached": false,
       "aggType": "",
       "arguments": {},
       "columnCustomDisplayInfos": {},
       "data": [
        [
         "IND186444",
         2025,
         "Strategic developments",
         "Agreement",
         "Government of India (2014-)",
         "CPI (Maoist): Communist Party of India (Maoist)",
         0,
         "India",
         "Maharashtra",
         "Gadchiroli",
         "Bhamragad",
         "Kawande",
         19.2865,
         80.7129,
         "Indo-Asian News Service",
         "Regional",
         "On 6 June 2025, 12 Naxal-Maoist cadres carrying bounties worth crores of rupees surrendered their arms in front of the Chief Minister in Kawande village outpost under Bhamragad tehsil (Gadchiroli, Maharashtra). This marked the first time that so many Naxal-Maoist cadres surrendered in this area.",
         0,
         1749578457,
         "2025-06-06",
         51.0,
         "Rain",
         "30.95"
        ],
        [
         "IND186086",
         2025,
         "Battles",
         "Armed clash",
         "Police Forces of India (2014-)",
         "Unidentified Armed Group (India)",
         0,
         "India",
         "Uttarakhand",
         "Haridwar",
         "Roorkee",
         "Manglaur",
         29.7909,
         77.8784,
         "Deccan Herald; Hindustan Times",
         "National",
         "On 6 June 2025, the police shot and injured two men during an encounter at the Uttarakhand-Uttar Pradesh border area near Manglaur town (Haridwar, Uttarakhand). The two men were accused of shooting and killing a BJYM leader in Manduwala village on 3 June (coded separately). Both were arrested and referred to the hospital.",
         0,
         1749598044,
         "2025-06-06",
         0.0,
         "Clear",
         "27.10"
        ],
        [
         "IND186139",
         2025,
         "Strategic developments",
         "Other",
         "Police Forces of India (2014-)",
         "Civilians (India)",
         0,
         "India",
         "Arunachal Pradesh",
         "Papum Pare",
         "Itanagar",
         "Itanagar",
         27.0869,
         93.6098,
         "Arunachal Times",
         "Subnational",
         "Other: On 6 June 2025, police 'externed' 219 non-local Inner Line Permits (ILP) violators from Itanagar city (Papum Pare, Arunachal Pradesh) for living in Arunachal Pradesh without valid permits. They were detained from several locations across the state including Papu Hills, Naharlagun, Nirjuli, and Banderdewa as a part of the initiative to uphold the Bengal Eastern Frontier Regulation (restricting movement of non-indigenous people in tribal areas).",
         0,
         1749598044,
         "2025-06-06",
         null,
         "Unknown",
         null
        ],
        [
         "IND186438",
         2025,
         "Battles",
         "Armed clash",
         "Police Forces of India (2014-)",
         "CPI (Maoist): Communist Party of India (Maoist)",
         0,
         "India",
         "Chhattisgarh",
         "Bijapur",
         "Bhairamgarh",
         "Ghot",
         19.2176,
         81.0606,
         "South Asia Terrorism Portal",
         "Other",
         "On 5 June 2025, security forces (coded as police) clashed with Naxal-Maoist cadres in the Indravati National Park area in Bijapur District (coded to Ghot village, Bhairamgarh, Chhattisgarh). A 'central committee' member was killed. Police seized an automatic weapon, explosives, and Maoist literature from the site.",
         1,
         1749578457,
         "2025-06-05",
         3.0,
         "Cloudy",
         "26.00"
        ],
        [
         "IND186090",
         2025,
         "Violence against civilians",
         "Attack",
         "NSCN-KK: National Socialist Council of Nagaland-Khango Konyak",
         "Civilians (India)",
         1,
         "India",
         "Nagaland",
         "Kohima",
         "Kohima Sadar",
         "Kohima",
         25.6576,
         94.1051,
         "Nagaland Post",
         "Subnational",
         "Around 5 June 2025 (as reported), NSCN-KK cadres threatened, physically assaulted and forced a couple from the Chang and Sangtam communities to sign a bond under duress and made them agree to an arbitrary fine of Rs 3 lakh at their residence in Nagaland (coded to Kohima city, Nagaland) over extortion and wrong suspicions. There were no fatalities.",
         0,
         1749598044,
         "2025-06-05",
         63.0,
         "Rain",
         "19.85"
        ]
       ],
       "datasetInfos": [],
       "dbfsResultPath": null,
       "isJsonSchema": true,
       "metadata": {},
       "overflow": false,
       "plotOptions": {
        "customPlotOptions": {},
        "displayType": "table",
        "pivotAggregation": null,
        "pivotColumns": null,
        "xColumns": null,
        "yColumns": null
       },
       "removedWidgets": [],
       "schema": [
        {
         "metadata": "{}",
         "name": "event_id_cnty",
         "type": "\"string\""
        },
        {
         "metadata": "{}",
         "name": "year",
         "type": "\"long\""
        },
        {
         "metadata": "{}",
         "name": "event_type",
         "type": "\"string\""
        },
        {
         "metadata": "{}",
         "name": "sub_event_type",
         "type": "\"string\""
        },
        {
         "metadata": "{}",
         "name": "actor1",
         "type": "\"string\""
        },
        {
         "metadata": "{}",
         "name": "actor2",
         "type": "\"string\""
        },
        {
         "metadata": "{}",
         "name": "civilian_targeting",
         "type": "\"integer\""
        },
        {
         "metadata": "{}",
         "name": "country",
         "type": "\"string\""
        },
        {
         "metadata": "{}",
         "name": "admin1",
         "type": "\"string\""
        },
        {
         "metadata": "{}",
         "name": "admin2",
         "type": "\"string\""
        },
        {
         "metadata": "{}",
         "name": "admin3",
         "type": "\"string\""
        },
        {
         "metadata": "{}",
         "name": "location",
         "type": "\"string\""
        },
        {
         "metadata": "{}",
         "name": "latitude",
         "type": "\"double\""
        },
        {
         "metadata": "{}",
         "name": "longitude",
         "type": "\"double\""
        },
        {
         "metadata": "{}",
         "name": "source",
         "type": "\"string\""
        },
        {
         "metadata": "{}",
         "name": "source_scale",
         "type": "\"string\""
        },
        {
         "metadata": "{}",
         "name": "notes",
         "type": "\"string\""
        },
        {
         "metadata": "{}",
         "name": "fatalities",
         "type": "\"long\""
        },
        {
         "metadata": "{}",
         "name": "timestamp",
         "type": "\"long\""
        },
        {
         "metadata": "{}",
         "name": "event_date",
         "type": "\"string\""
        },
        {
         "metadata": "{}",
         "name": "weather_code",
         "type": "\"double\""
        },
        {
         "metadata": "{}",
         "name": "weather_condition",
         "type": "\"string\""
        },
        {
         "metadata": "{}",
         "name": "temperature",
         "type": "\"decimal(4,2)\""
        }
       ],
       "type": "table"
      }
     },
     "output_type": "display_data"
    }
   ],
   "source": [
    "df_final = final_df.drop(\"event_date\")\\\n",
    "    .withColumnRenamed(\"formatted_date\", \"event_date\")\\\n",
    "    .withColumn('civilian_targeting', when(col('civilian_targeting')=='Civilian targeting', 1).otherwise(0))\\\n",
    "    .withColumn('temperature', ((col('max_temp')+col('min_temp'))/2).cast(\"decimal(4,2)\"))\\\n",
    "    .drop('max_temp', 'min_temp', \"parsed_date\")\n",
    "    \n",
    "\n",
    "df_final.limit(5).display()"
   ]
  },
  {
   "cell_type": "code",
   "execution_count": 0,
   "metadata": {
    "application/vnd.databricks.v1+cell": {
     "cellMetadata": {
      "byteLimit": 2048000,
      "rowLimit": 10000
     },
     "inputWidgets": {},
     "nuid": "66be730b-63e2-494b-9a32-0d690d8df4cc",
     "showTitle": false,
     "tableResultSettingsMap": {},
     "title": ""
    }
   },
   "outputs": [],
   "source": [
    "df_final.coalesce(1).write.mode(\"overwrite\").option(\"header\", True).csv(\"/Volumes/workspace/military-dataset/tgt_volume\")"
   ]
  }
 ],
 "metadata": {
  "application/vnd.databricks.v1+notebook": {
   "computePreferences": {
    "hardware": {
     "accelerator": null,
     "gpuPoolId": null,
     "memory": "HIGH"
    }
   },
   "dashboards": [],
   "environmentMetadata": {
    "base_environment": "",
    "environment_version": "2"
   },
   "inputWidgetPreferences": null,
   "language": "python",
   "notebookMetadata": {
    "pythonIndentUnit": 4
   },
   "notebookName": "history_data_cleaning",
   "widgets": {}
  },
  "language_info": {
   "name": "python"
  }
 },
 "nbformat": 4,
 "nbformat_minor": 0
}